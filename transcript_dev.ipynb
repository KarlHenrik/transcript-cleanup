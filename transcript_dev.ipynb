{
 "cells": [
  {
   "cell_type": "code",
   "execution_count": 38,
   "metadata": {},
   "outputs": [],
   "source": [
    "import re"
   ]
  },
  {
   "cell_type": "code",
   "execution_count": 168,
   "metadata": {},
   "outputs": [],
   "source": [
    "pattern = re.compile(r\"\\d:\\d\\d:\\d\\d\\.\\d\", re.IGNORECASE)\n",
    "\n",
    "pattern = re.compile(r\"\\d\\d:\\d\\d:\\d\\d\\.\\d[\\S\\s]*:\", re.IGNORECASE)"
   ]
  },
  {
   "cell_type": "code",
   "execution_count": 192,
   "metadata": {},
   "outputs": [],
   "source": [
    "s = \"\"\"00:01:24.6\n",
    "Respondent: No, that's cool.\n",
    "00:01:25.6\n",
    "Interviewer: Okay, so quickly, could you tell me a little bit about yourself and how you ended up doing the master's?\n",
    "00:01:35.4\n",
    "Respondent: From where do we start?\n",
    "\n",
    "Bachelor's or?\n",
    "00:01:40.2\n",
    "Interviewer: Why did you choose it?\n",
    "00:01:41.9\n",
    "Respondent: The bachelor's?\n",
    "\"\"\""
   ]
  },
  {
   "cell_type": "code",
   "execution_count": 116,
   "metadata": {},
   "outputs": [
    {
     "data": {
      "text/plain": [
       "'Respondent'"
      ]
     },
     "execution_count": 116,
     "metadata": {},
     "output_type": "execute_result"
    }
   ],
   "source": [
    "s[11:21]"
   ]
  },
  {
   "cell_type": "code",
   "execution_count": 249,
   "metadata": {},
   "outputs": [
    {
     "data": {
      "text/plain": [
       "True"
      ]
     },
     "execution_count": 249,
     "metadata": {},
     "output_type": "execute_result"
    }
   ],
   "source": [
    "pattern = re.compile(r\"\\n\\d\\d\", re.IGNORECASE)\n",
    "bool(pattern.match(\"\\n00\"))"
   ]
  },
  {
   "cell_type": "code",
   "execution_count": 222,
   "metadata": {},
   "outputs": [],
   "source": [
    "from docx import Document"
   ]
  },
  {
   "cell_type": "code",
   "execution_count": 241,
   "metadata": {},
   "outputs": [],
   "source": [
    "document = Document(r\"C:\\Users\\karlhf\\OneDrive - Universitetet i Oslo\\Desktop\\PhD\\Data\\Transcript-Transformations\\transcripts\\øyvind_TT.docx\")\n",
    "\n",
    "if len(document.tables) == 0:\n",
    "    fullText = []\n",
    "    for para in document.paragraphs:\n",
    "        fullText.append(para.text)\n",
    "    raw_text = '\\n'.join(fullText)"
   ]
  },
  {
   "cell_type": "code",
   "execution_count": 242,
   "metadata": {},
   "outputs": [],
   "source": [
    "s = raw_text"
   ]
  },
  {
   "cell_type": "code",
   "execution_count": 257,
   "metadata": {},
   "outputs": [
    {
     "name": "stdout",
     "output_type": "stream",
     "text": [
      "hey\n"
     ]
    }
   ],
   "source": [
    "bad_id = re.compile(r\"\\n\\d\\d\", re.IGNORECASE)\n",
    "if bad_id.match(\"\"[-3:]):\n",
    "    print(\"hey\")"
   ]
  },
  {
   "cell_type": "code",
   "execution_count": 270,
   "metadata": {},
   "outputs": [],
   "source": [
    "times = []\n",
    "contents = []\n",
    "IDs = []\n",
    "\n",
    "bad_id = re.compile(r\"\\n\\d\\d\", re.IGNORECASE)\n",
    "pattern = re.compile(r\"\\d\\d:\\d\\d:\\d\\d\\.\\d[^:]+:\", re.IGNORECASE)\n",
    "time_ID_locs = [(m.start(0), m.end(0)) for m in re.finditer(pattern, s)]\n",
    "ends = [m[0] for m in time_ID_locs[1:]] + [-1]\n",
    "for m, end in zip(time_ID_locs, ends):\n",
    "    times.append(s[m[0]:m[0]+10])\n",
    "    maybeID = s[m[0]+10:m[1]-1].strip()\n",
    "    if bad_id.match(maybeID[-3:]):\n",
    "        IDs.append(\"\")\n",
    "        contents.append(s[m[0]+10:m[1]-3].strip())\n",
    "    else:\n",
    "        IDs.append(maybeID)\n",
    "        contents.append(s[m[1]:end].strip())"
   ]
  },
  {
   "cell_type": "code",
   "execution_count": 271,
   "metadata": {},
   "outputs": [
    {
     "data": {
      "text/plain": [
       "['Okay, so I want to ask you some questions about your experience with computation and with programming during your studies.',\n",
       " \"Okay, so some questions will be about the types of activities you've done or skills you've acquired, and other questions will be about your opinions and preferences when it comes to computation and programming.\",\n",
       " \"So let's start a bit with your background, before going in depth on the programming you did during your thesis work, and some experience you've had with computation during your bachelor's and master's courses.\",\n",
       " \"No, that's cool.\",\n",
       " 'From where do we start?',\n",
       " 'Why did you choose it?',\n",
       " \"Yeah, like what's your educational background and why did you choose to study computational physics?\",\n",
       " 'So I spent, I think my original plan was to do astrophysics, and then at some point I figured out that I more enjoyed doing computations or computational physics.',\n",
       " 'What did you enjoy about it?',\n",
       " \"So as long as you don't go below the logical part, everything is contained in very few sets of operations.\",\n",
       " \"And quantum mechanics is in some sense similar because it's also a model and it's also very constructed and that means that you can sort of, you can reason and think about something on pen and paper and then you can build everything from those few assumptions, and I like that because it sort of, it creates a very tidy and clean world because it's easy to work with and you can build everything you want.\",\n",
       " \"Could you briefly tell me about what you did in your master's, what your master's was about?\",\n",
       " 'So a very technical type of thesis.',\n",
       " 'Do you feel like, did computation play a role in helping you understand the actual physics that was going on?',\n",
       " \"And I guess in some sense I have like an intuition of what sort of goes on in the methods from a computational point of view but the physics themselves, maybe, I'm not sure I can exactly point to specific parts but I think it's maybe contained in there.\",\n",
       " 'As in?',\n",
       " \"As in their names or as in their, I'm not sure I understand what you mean, what kind of programming or what is an example of a kind of programming?\",\n",
       " 'As in programming languages?',\n",
       " 'Yeah, I used mainly Python I think.',\n",
       " \"So now you're sharing your screen, so you're kind of, the code you have here that you wrote with Sebastian for your thesis has also been developed a bit since then.\",\n",
       " 'Yeah, quite a lot.',\n",
       " 'Could you show me some of the kind of parts of kind of the thesis work in here and kind of how you went about designing it and making it?',\n",
       " \"I think, so in this part, what's shown here on the screen is this, it is one constituent of like all of these different methods that we used.\",\n",
       " 'And this code block here is supposed to be a wrapper around a basis.',\n",
       " 'And these single particle wave functions, they are used to compute matrix elements, which sort of is sent into this more complicated wave function methods.',\n",
       " 'And that means that you solve the Schrodinger equation for a single particle in one dimension, for instance.',\n",
       " 'So this first one describes a one dimensional harmonic oscillator.',\n",
       " 'And the harmonic oscillator denotes the potential, the central potential used in the system.',\n",
       " 'So you can sort of send in any type of potential as you can, because it just uses a grid to sort of set up the matrix elements.',\n",
       " 'Could you talk a little bit about why?',\n",
       " 'Yeah, why have you written your code in this way?',\n",
       " 'So when we wrote this project, there was, I guess what has sort of made it useful later is that all of these, all of these small code blocks here are not really complicated to construct.',\n",
       " 'And you can make it even more succinct if you want.',\n",
       " \"But what was useful was that it's available somewhere and you don't have to sort of spend time on trying to do this again and again and again.\",\n",
       " 'And therefore, this docstring is just used to sort of document what this specific class does.',\n",
       " \"So it's, it's some something is documented, something is not.\",\n",
       " 'But the idea was to sort of build up a build up a complete documentation and to set up like we also set up web pages for this.',\n",
       " 'But there was set up a, yeah, a web page for this.',\n",
       " 'And then all the documentation is sort of moved up here.',\n",
       " 'Yeah.',\n",
       " 'This was kind of here.',\n",
       " 'Then also.',\n",
       " 'And did, did you end up writing your code in a different way because you wanted to kind of make it useful by others?',\n",
       " 'Yeah.',\n",
       " 'Yeah.',\n",
       " 'So I guess the pros is more that it becomes easier to switch out different parts.',\n",
       " 'You can either target the methods themselves.',\n",
       " 'And then this, what I thought when we was working with this is that I wanted to be able to, because whenever I looked at math, I saw that all the wave function type of methods only used sort of an abstract placeholder for the basis set.',\n",
       " \"It's not really because there are limitations, but whenever you write the method, you don't specifically talk about specific systems.\",\n",
       " 'And for me, that was just natural.',\n",
       " 'And then all the way function method is agnostic to whichever basis set you use.',\n",
       " 'Like you made a method, how can you be sure that what you did was correct?',\n",
       " 'So you need to be able to check other types of systems.',\n",
       " 'And then being able to just drop in, replace those was my goal.',\n",
       " 'This is the one that gives the physics of the problem.',\n",
       " 'In terms of coding, and these computational methods, what would you have done differently if you were to start over this project today?',\n",
       " \"I'm not entirely, like I would probably go about it pretty much the same way.\",\n",
       " 'So only do, like this eventually ended up as several libraries or several small libraries.',\n",
       " \"But in the end, I would, I mean, if I moved back to the same place and didn't have the same experience.\",\n",
       " 'Yeah.',\n",
       " 'I guess I would probably have written a very different type of thesis, I guess.',\n",
       " 'But I think if the goal was the same result, I would have definitely done something similar.',\n",
       " 'What do you mean by a leaner library?',\n",
       " \"Like whenever I've written one set of code and then you gradually iterate, you improve upon it.\",\n",
       " \"And I think especially with the physics background that we have, it's very common to be hung up in like you're so drilled on optimizations and people lose track of, they can't see the woods for all the trees because they want to optimize everything.\",\n",
       " \"It shouldn't be a problem.\",\n",
       " \"And then it's harder to optimize or to use this code elsewhere because it sort of becomes a little rigid.\",\n",
       " 'And I think scoping the project is something I would have done different in this sense.',\n",
       " \"And that's probably more a Python philosophy than what is common if you've been writing low level languages and spending time on trying to optimize something that really isn't important.\",\n",
       " \"It's just such a breeze to work with.\",\n",
       " \"There's a lot of really good libraries for it.\",\n",
       " \"And I guess it's also an opinionated thing because I've learned Python since I started physics and this is the language that I sort of feel most comfortable with.\",\n",
       " \"So let's move back to when you were actually working on your thesis.\",\n",
       " 'Oh yeah, a lot.',\n",
       " 'I mean, all of the thesis work is new for me.',\n",
       " 'Yeah, I guess I did that as well.',\n",
       " 'Yeah, I mean, all of this idea of this premature optimization and avoiding that, scoping, how to build automated testing, actually write tests and sort of iterate on your code based on testing.',\n",
       " 'So this, how do you verify stuff?',\n",
       " 'Like different types of sort of attacking this problem, I guess I learned from this thesis work.',\n",
       " 'Would you say that you code differently now than when you finished your thesis?',\n",
       " 'So you only do, you only use sort of you try to reproduce an article or you look at some, you have an idea and you do way smaller programs.',\n",
       " 'And then if that is useful, then you can sort of integrate it with something else.',\n",
       " 'Much more that than actually setting up a huge project.',\n",
       " 'Because this took a lot of work and doing something similar is, I think I need to motivate or I need to find good reasons for actually improving on something before I would do something again like this.',\n",
       " \"Yeah, so and once you have something, it's better to, it's better or it's easier to iterate on it than building everything again.\",\n",
       " \"So now given all your kind of experience, what's your programming workflow?\",\n",
       " 'Is that something you actually do or something you want to do?',\n",
       " 'But in our case, or at least on my PhD, then testing is reproducing results in articles.',\n",
       " 'I am supposed to reproduce the table that I see in an article.',\n",
       " \"And I guess that's the test in this case.\",\n",
       " 'So you code a lot in Python.',\n",
       " \"I've coded in Rust as well.\",\n",
       " 'But as much as possible only in Python.',\n",
       " 'That was an interesting, that was a hobby, I think.',\n",
       " 'I think he used it for a little while and then he was sort of, he was also trying to build languages.',\n",
       " 'And many of the concepts and ideas from Rust that he was sort of, that he liked, that he discussed and also sort of showed how you can implement in your own languages.',\n",
       " \"And especially as in, I've been coding quite a lot of C, some C++.\",\n",
       " 'And then that sort of, that became my go-to low level language.',\n",
       " 'So I kind of learned it because I thought I might get used for it.',\n",
       " 'But now I think that was due to a little lack of libraries and everything.',\n",
       " \"But it's good to have like one or two low level languages that you can interact with.\",\n",
       " \"So that's where I learned it.\",\n",
       " 'Where did you learn C and C++?',\n",
       " 'I had several courses where I programmed in C.',\n",
       " 'We can say that your kind of experience is different from other kind of physicists here.',\n",
       " 'I think so.',\n",
       " 'I also took a bachelor in informatics.',\n",
       " 'I wanted to, I was really interested in operating systems or I got interested in operating systems.',\n",
       " 'So I wanted to take a course, a specific course at informatics that where you were supposed to program an operating system.',\n",
       " \"I guess like experience wise that's sort of, that's different because that's just pure informatics.\",\n",
       " \"It's programming for the sake of programming more or less.\",\n",
       " 'Because then I knew, I felt really confident in programming.',\n",
       " 'So you can only focus on the physics and it sort of, it opens a little, a couple of doors and makes it easier.',\n",
       " 'Do you feel proficient in C and C++ and Rust and Python?',\n",
       " 'What does it mean to be proficient in Python for you?',\n",
       " 'Most, I guess, numerical type of libraries.',\n",
       " 'I have quite a good grasp of the more, I guess, what should you call, like these meta type of programming in Python and the more informatics, theoretically complicated type of programming.',\n",
       " 'So I also feel like...',\n",
       " 'Yeah, and also meta classes and like the more type of...',\n",
       " \"It has a name, but I guess it's called meta programming, but also those type of things.\",\n",
       " \"So if I were to use libraries in C, I'm not so well versed.\",\n",
       " 'C++ is somewhat similar.',\n",
       " \"So I sort of pretty recently learned more modern C++, but it's still a long way to go.\",\n",
       " \"I feel fairly proficient in that as well, but that's a language that you really need to...\",\n",
       " 'It becomes easier, but I need to look up a lot of stuff.',\n",
       " 'I just want to double check that.',\n",
       " 'My microphone.',\n",
       " 'Yeah.',\n",
       " 'Yes.',\n",
       " \"Like if they took a master's or went towards a PhD.\",\n",
       " 'And I think it depends a little.',\n",
       " \"I guess they're...\",\n",
       " 'Like you look at different protocols for communicating on the internet, or they look at distributed computing specifically, like how can you utilize heterogeneous computer structure to really squeeze out a lot of computations.',\n",
       " \"So I guess programming wise, they don't necessarily do a lot more programming than us.\",\n",
       " 'They learn a larger tool stack, so they learn different...',\n",
       " \"But I guess, like actually sitting down and writing code, it's probably not that much more than what we would do at this group, I guess.\",\n",
       " \"Because you can also sit down here and just try to solve a problem and really don't care about the code.\",\n",
       " 'Okay, I have a fun question here.',\n",
       " 'Whatever solves your problem, I guess.',\n",
       " 'I mean, if you want other people to use your code, then good code means something entirely different than if you only need to solve their problem.',\n",
       " \"But it's, yeah, I don't know.\",\n",
       " \"But I guess you just have to learn to sort of read other people's code and then you sort of stop, I guess, asking this good code, bad code.\",\n",
       " 'No, I can do that.',\n",
       " 'Okay.',\n",
       " \"So if it doesn't fit my standards, but it doesn't really take a lot to also suit my standards.\",\n",
       " 'So, um, could you describe your standard?',\n",
       " 'So you get far by just formatting your code in a similar fashion than I do.',\n",
       " \"So if you use a standard, then I'm happy.\",\n",
       " \"So for me, that's sort of the first step.\",\n",
       " 'Like, do you do, um, like, how do you choose to sit down and solve a problem?',\n",
       " \"And for this, I don't judge because, uh, that just has to do with, you have to, you have to learn it.\",\n",
       " \"So if you don't use sort of what I consider the optimal tool, then I think that, okay, that just means that you, okay, I can show you.\",\n",
       " \"But, um, um, but yeah, I guess, uh, uh, yeah, for me, it's, it's really, it's really a visual thing.\",\n",
       " 'What do you think that is?',\n",
       " 'Like which parts belong, belongs together.',\n",
       " 'You need to have sort of punctuation.',\n",
       " 'Um, and I think it also has to do with whenever I, when, uh, whenever you see a lot of code, I guess if you, if you have, uh, like code repeating and, uh, you sort of, instead of just making a function, you repeat code and you copy it and paste, and then it becomes really hard to, to understand logic.',\n",
       " \"So at that point I'm sort of, okay, I understand you're asking about the problem or we are working on a problem, but I cannot free my mind from everything that's going on in your code.\",\n",
       " \"And then for me, that, that sort of stops me from actually partaking in whatever we're doing.\",\n",
       " 'Like you have to explain to me the problem and I can try to help.',\n",
       " \"If you're on the other side of that and you're the one showing code and explain kind of what's going on, how do you kind of make that happen in a good way?\",\n",
       " \"Um, I guess for me that's like, if I, yeah.\",\n",
       " \"So, uh, that's, I guess that's also a, like if you just show a large chunk of code, I have no idea where to start.\",\n",
       " \"And that's, I also try to do that whenever I'm asking for help, uh, which isn't, it's been a while, but, but, uh, I remember when I did a lot of programming, especially at at informatics and doing this operating systems, then there was often very specific, like, uh, you need to solve this type of indexing.\",\n",
       " 'Um, then I tried to sort of isolate that bit and very seldom show a large block of code.',\n",
       " 'Okay.',\n",
       " \"What's a good coding strategy?\",\n",
       " \"Oh, there's a very good quote, but maybe you can find it.\",\n",
       " 'Okay.',\n",
       " 'Whatever.',\n",
       " 'Yeah.',\n",
       " 'So you need to take the hands off the keyboard and you need to think and you need to understand.',\n",
       " \"So, but, uh, but really like, um, thinking while you're coding is, uh, that's, that's like drinking while driving.\",\n",
       " 'But, um, earlier you said that you like, um, solving problems in the simplest way and again, the minimal way.',\n",
       " \"No, it's the same there as well.\",\n",
       " \"So whenever, whenever I'm sort of coding and I'm trying to solve a problem, um, or I'm trying to, uh, reproduce results from an article, I need to understand, like I need to read the paper and need to know what the equations and what they do and why they're supposed to be there and then what order they're going to show up.\",\n",
       " 'So even if your end goal is a huge system of interlocking parts and algorithms.',\n",
       " 'Okay.',\n",
       " \"So if you're writing, if you're writing a library, I mean, the same point still applies.\",\n",
       " 'So there are tools for this.',\n",
       " \"So, uh, because if you can sit down and try to think about it and write, cause it's so much easier to just change that around than if you write code, then it's very easy to get trapped in, okay, how do you solve a very specific part and then you'll lose track.\",\n",
       " 'So you can solve parts of the problem before you actually solve the full problem.',\n",
       " 'Um, really think before you actually start writing code.',\n",
       " 'Okay, good.',\n",
       " 'Um, I guess that, uh, that depends.',\n",
       " \"So it's, it's not really, it's not really collaborating on the code.\",\n",
       " \"So, um, so whatever, I guess I haven't been in like the, these really large collaborations.\",\n",
       " \"Uh, but I think what's important is that you have, you have an environment where you can play around and test stuff.\",\n",
       " 'So having a tool like Git where you can just pull stuff down, you can play around, you can change stuff, you can break stuff.',\n",
       " \"That's good.\",\n",
       " 'Yeah.',\n",
       " \"Um, and that, um, when you're just writing small scripts, you don't really work together with other people.\",\n",
       " 'No.',\n",
       " \"And this is kind of a way of testing because if everybody's able to reproduce the same thing, then at least either you're all doing the wrong thing, or at least somebody is, or everybody's doing the right thing.\",\n",
       " \"So it's more the theory part, the planning part and the understanding part, and then actually writing the code is, is a one-line job.\",\n",
       " 'Cool.',\n",
       " \"So we've discussed a lot about kind of how code should be and how coding should be and kind of, um, workflow.\",\n",
       " \"Um, I guess it depends, uh, because, um, it's easy to get a little biased when people say, well, I'm not good at physics.\",\n",
       " \"Uh, and, and I really think that a lot of people might like eventually, uh, physicists who, who don't have the same type of informatics background will converge to the same thing.\",\n",
       " \"Um, but I think also a lot of physicists who, um, there's a lot of physicists does a lot of stuff without actually building libraries and building large software.\",\n",
       " \"And then it really doesn't matter.\",\n",
       " 'Hmm.',\n",
       " 'Yeah.',\n",
       " \"So don't you feel that these coding practices, even when you're doing kind of a simple stuff contained just for you thing that kind of, that were important to make, uh, your code, like correct.\",\n",
       " \"Well, yes, it's, it, that's important, but I mean, it's, um, it depends on how, uh, it, yeah.\",\n",
       " \"Um, and there, the testing was vastly different for what I'm doing now because, um, there like the order of the indices and the, what they are called and everything is really important.\",\n",
       " 'You can, you can, you cannot test sort of everything in between.',\n",
       " \"Um, and then it's, I mean, as long as you can do that and it's correct, then you can sort of rest easy.\",\n",
       " \"It's just that you didn't see it.\",\n",
       " 'Uh, and the only way, and we did this a lot, the only way you can sort of do that because nobody gives the results is that we ended up, we wrote like, uh, we wrote like, um, something that set up random matrices with the correct structure.',\n",
       " \"So we sort of wrote every term several times and then you compare, and then you're able to find out at least at some point, okay, which are wrong.\",\n",
       " 'Yeah.',\n",
       " 'It can just be a wrong typo in the book.',\n",
       " \"And then if you're able to find different libraries that has done the same thing, you can compare with those.\",\n",
       " \"Or I mean, the code is either smaller, so you can sort of, it makes more sense to test the end product, or you sort of have to develop, I guess, I guess if it's an intuition or like you need to, you need to be able to understand, like, if you've written a small part of code, you're not reproducing what you want to reproduce.\",\n",
       " 'And I guess this is only, this is something you develop as you go.',\n",
       " 'And sadly, like the only, I guess the best way to do this is to write the same code several times, but slightly different.',\n",
       " 'So you, you have, you have one part that you suspect is wrong and you rewrite that and you write it using a different way.',\n",
       " 'And then maybe you have two, two different ways of doing the same thing and both give wrong results.',\n",
       " 'How much time do you have left?',\n",
       " 'No, for being here.',\n",
       " 'Okay.',\n",
       " 'Then we can just keep going.',\n",
       " 'Fantastic.',\n",
       " 'So that was a long discussion around kind of, do these questions matter in physics?',\n",
       " 'As in?',\n",
       " \"I think it's, well.\",\n",
       " 'Yeah, I guess everything is personal.',\n",
       " 'Yeah.',\n",
       " \"We've discussed a lot of your preferences, so I guess that makes sense.\",\n",
       " 'Yeah.',\n",
       " 'Yeah.',\n",
       " \"It's definitely preferences.\",\n",
       " 'Come on.',\n",
       " 'Um.',\n",
       " 'Okay.',\n",
       " \"During my master's work?\",\n",
       " 'Um, I guess, uh, yeah, I worked, uh, I worked with, um, my supervisor, HÃ¥kon.',\n",
       " 'So we were sort of able to, to use that immediately to, to get some results that they wanted.',\n",
       " 'Okay, cool.',\n",
       " \"Um, yeah, so that was probably not so much, I guess that wasn't programming, that was more physics or, um, I mean, methods, like why does this work or why does this not work?\",\n",
       " 'Uh, yeah, so when we were working together, um, I guess this started, uh, this started as, um, we did, uh, we worked a little on this in a course and we also had like, uh, uh, HÃ¥kon was really good at sort of giving us exercises because we started sort of the thesis, um, during the spring.',\n",
       " 'Okay, try to do, try to write this piece of code or write this piece of code and get these results.',\n",
       " 'So then it was also, I guess, discussions and, um, and yeah, writing code together.',\n",
       " \"Whereas on the, uh, uh, master's thesis, we were also, there, there was a lot of stuff to handle.\",\n",
       " 'And I think I had probably most to say in that, that case, then, then we sort of managed to split up the project in different parts and we could work on them semi independently.',\n",
       " 'Mm.',\n",
       " 'Up until today?',\n",
       " 'I guess, uh, maybe it goes back to this.',\n",
       " 'This is, uh, you need to declare your expectations.',\n",
       " \"And that's really useful because then you get to see, like, you learn, you learn a different way of looking at the same problem.\",\n",
       " \"I think it's, it's more like projects can grow so large.\",\n",
       " 'And I mean, you can do different parts and you get somewhere a little faster.',\n",
       " 'Before we move on, you said that Python is kind of the language for your, uh, the most comfortable and the most efficient.',\n",
       " \"Like, because if you just have an editor in front of you and you're writing code and you don't, of course you learn a lot, but you don't learn every, everything about like better programming and things you mentioned earlier.\",\n",
       " 'Yeah.',\n",
       " \"I guess that's, um, that sort of shows up as you go along.\",\n",
       " \"And I think that's also related to this, having done programming.\",\n",
       " 'So you get to a point and you see that, okay, this is, uh, like I want to do this specific thing.',\n",
       " 'And then you have to look it up and you have to just Google a whole lot.',\n",
       " 'And, and there, uh, that is something you just, you need to learn, like, okay, I know I want to solve this problem.',\n",
       " 'And then you sort of go from there to try to learn this new skill.',\n",
       " 'Yeah.',\n",
       " 'Um, what computation programming related things, uh, have you struggled with during your thesis and, uh, later?',\n",
       " \"I know, but I like the things we've talked about, like implementing methods or just programming in general.\",\n",
       " 'Yeah.',\n",
       " 'Oh yeah.',\n",
       " \"Yeah, I think, uh, I think what sort of probably the skill that I, I've, uh, I've had the most, like what I've learned or what I benefit the most from is this, uh, like being able to ask, uh, I guess, testing, like you need to know how can you, how can you test something?\",\n",
       " 'And really understanding that you need to make the minimal examples work before you target something larger.',\n",
       " 'And why can you trust it?',\n",
       " 'And learn different strategies for how you want to solve, uh, how can you solve the problem in several, several different ways.',\n",
       " 'Like you have to learn it over time, but, uh, because you need to learn the different ways of solving the problem.',\n",
       " \"Um, I think in, in physics, maybe what would be, this isn't necessarily directly targeted towards computations.\",\n",
       " \"Like you're, you're explaining a concept and then you make a lot, suddenly you start doing a lot of approximations to solve the problem.\",\n",
       " \"So you'd lost track of like, why, where were you and where were you going in your target to solve something?\",\n",
       " 'And you need to understand where are you going?',\n",
       " 'Like ask the, ask the right questions and try to answer the right, like, try, try to figure out what questions to ask.',\n",
       " \"That's really useful.\",\n",
       " \"Now that you kind of talked about where you're at, like how did you get there?\",\n",
       " 'Um, so when did you first learn programming?',\n",
       " 'When you started?',\n",
       " 'Yeah.',\n",
       " 'It is fantastic.',\n",
       " 'Uh, why?',\n",
       " 'Uh, because you learn, you start by learning how to operate your computer and write just your first small script.',\n",
       " \"And I mean, if you go the informatics way, you don't start object or actually object orientation before the second semester.\",\n",
       " 'Um, on the way you learn how you solve differential equations.',\n",
       " 'Mm.',\n",
       " 'Yeah.',\n",
       " 'Well, after, after informatics, this first course I had, um, I had this, uh, in this Java programming course that was object orientation at informatics.',\n",
       " 'It was just very small.',\n",
       " 'So there was really not like you learn to translate some physics problem into, uh, in, into differential equations and solve that on the computer.',\n",
       " 'Um, and then I took the first computational physics course and there I learned.',\n",
       " 'Um, cause I mean, that was also, that was with C++.',\n",
       " \"And I guess it's, it, it could probably also just run as a, uh, programming course without the problem solving and without, uh, numerical projects, but, but the projects were really great as well.\",\n",
       " 'Um, and from there, um, from there, I think I took some courses, some more courses in informatics.',\n",
       " 'Um, and then, uh, what else?',\n",
       " \"Um, and they are also useful in their own sense, like logic, no, um, the data structure course, which just learned you a bunch on how, how you're going to build some of these, like, uh, often use containers on like that comes prebuilt in, in, uh, programming languages and graph theory, uh, some of this kind of stuff.\",\n",
       " 'So then there was more a center programming and C programming.',\n",
       " \"Um, or at least I guess I haven't distilled a lot of knowledge or I haven't used a lot of the knowledge from those courses in my everyday work.\",\n",
       " \"So that's more on, uh, it would be cool though, if you could like make dive stress algorithm to solve a quantum problem or like some, an algorithm scores.\",\n",
       " 'Yeah.',\n",
       " \"I've also taken algorithm course and the job, of course.\",\n",
       " 'Yeah.',\n",
       " 'Yeah.',\n",
       " \"It's nice to have seen it, but, uh, but it's not something that you only want to use the tools you don't want to.\",\n",
       " 'You just want to use it.',\n",
       " 'Yeah.',\n",
       " 'Do you feel like, um, it would be, uh, like helpful or important for competition physics students here to have taken those kinds of courses?',\n",
       " 'I mean, um, you could, you could at least, um, and no, I think a lot of people would not want to take it.',\n",
       " \"And I honestly would not think that it will be worth it, but, uh, in the sense, but, but if you're interested, definitely, uh, and you should know about it, that's maybe a different case.\",\n",
       " 'Thank you.',\n",
       " 'I guess all the time, I think.',\n",
       " \"Cause I mean, it's, I started from nothing and then, yeah, but like after you take, took the fourth, first course, what was like different from your view of programming then to like, when you finished your bachelors?\",\n",
       " \"That's might have changed.\",\n",
       " 'Um, uh, did you ever collaborate on any, uh, computational assignments?',\n",
       " 'Uh, I mean this, both my thesis and, uh, and, uh, and several of these computational physics courses.',\n",
       " 'Um, did kind of this having to present your work changed how you coded?',\n",
       " 'No.',\n",
       " 'Um, as in present to someone else or to, to, to, yeah, like to have a presentation or make a report that you present or.',\n",
       " 'Um, not really.',\n",
       " 'So, and that was a very wishy-washy and some things were not good and others were good that you sort of had to learn by, by asking.',\n",
       " 'Uh, but I think I write very similar code for myself that I will do to others.',\n",
       " \"And also in physics courses, maybe they don't care that much.\",\n",
       " 'Nope.',\n",
       " 'Do you feel like, um, these have been kind of, um, important or like central in kind of your, uh, learning progression on kind of computation and going?',\n",
       " 'Why?',\n",
       " 'Why?',\n",
       " \"So I guess learning to, learning to work on large, large problems or, or how you would go about solving a problem that's computationally demanding.\",\n",
       " \"So if, if you really need, if you really like, like if the task is not to solve the simplest problem, if you need to solve a problem that's, uh, that really requires you to write efficient code, then you suddenly, then you're suddenly talking about building something that's a lot larger than just the smallest that you can make if you're scale the problem down.\",\n",
       " 'Because yeah, then you sort of have to do it and then you build up experience on how to structure and, and how, how you can go about solving these type of problems.',\n",
       " 'What new things did you learn from working on these big projects?',\n",
       " 'Yeah.',\n",
       " \"No, no, I think, I think it's, yeah.\",\n",
       " \"That's it.\",\n",
       " \"No, no, I don't think so.\"]"
      ]
     },
     "execution_count": 271,
     "metadata": {},
     "output_type": "execute_result"
    }
   ],
   "source": [
    "contents"
   ]
  },
  {
   "cell_type": "code",
   "execution_count": 174,
   "metadata": {},
   "outputs": [],
   "source": [
    "s = \"\"\"00:00:00.0\\n Respondent: Okay, so I want to ask you some questions about your experience with computation and with programming during your studies.\"\"\""
   ]
  },
  {
   "cell_type": "code",
   "execution_count": 181,
   "metadata": {},
   "outputs": [
    {
     "name": "stdout",
     "output_type": "stream",
     "text": [
      "Respondent\n"
     ]
    }
   ],
   "source": [
    "m = pattern.findall(s)\n",
    "print(m[0][10:-1].strip())"
   ]
  },
  {
   "cell_type": "code",
   "execution_count": 99,
   "metadata": {},
   "outputs": [
    {
     "data": {
      "text/plain": [
       "[(2, 11), (1065, 1074), (1106, 1115)]"
      ]
     },
     "execution_count": 99,
     "metadata": {},
     "output_type": "execute_result"
    }
   ],
   "source": [
    "[(m.start(0), m.end(0)) for m in re.finditer(pattern, s)]"
   ]
  },
  {
   "cell_type": "code",
   "execution_count": 102,
   "metadata": {},
   "outputs": [
    {
     "name": "stdout",
     "output_type": "stream",
     "text": [
      "0:00:00.0\n",
      "0:01:24.6\n",
      "0:01:25.6\n"
     ]
    }
   ],
   "source": [
    "for m in re.finditer(pattern, s):\n",
    "    print(s[m.start(0):m.end(0)])"
   ]
  }
 ],
 "metadata": {
  "kernelspec": {
   "display_name": "myEnv",
   "language": "python",
   "name": "python3"
  },
  "language_info": {
   "codemirror_mode": {
    "name": "ipython",
    "version": 3
   },
   "file_extension": ".py",
   "mimetype": "text/x-python",
   "name": "python",
   "nbconvert_exporter": "python",
   "pygments_lexer": "ipython3",
   "version": "3.11.3"
  },
  "orig_nbformat": 4
 },
 "nbformat": 4,
 "nbformat_minor": 2
}
